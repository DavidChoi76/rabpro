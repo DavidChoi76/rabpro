{
 "metadata": {
  "language_info": {
   "codemirror_mode": {
    "name": "ipython",
    "version": 3
   },
   "file_extension": ".py",
   "mimetype": "text/x-python",
   "name": "python",
   "nbconvert_exporter": "python",
   "pygments_lexer": "ipython3",
   "version": "3.8.10"
  },
  "orig_nbformat": 4,
  "kernelspec": {
   "name": "python3",
   "display_name": "Python 3.8.10 64-bit ('rivgraph': conda)"
  },
  "interpreter": {
   "hash": "00bb43fee90ca6224738cf9c10f6fc0369c1e3ba4a3fdb37a7afd215dae0b1f5"
  }
 },
 "nbformat": 4,
 "nbformat_minor": 2,
 "cells": [
  {
   "cell_type": "markdown",
   "source": [
    "# Welcome to RaBPro!\n",
    "\n",
    "This example demonstrates some of the core functionality and export features provided by RaBPro."
   ],
   "metadata": {}
  },
  {
   "cell_type": "code",
   "execution_count": null,
   "source": [
    "import rabpro\n",
    "import os"
   ],
   "outputs": [],
   "metadata": {}
  },
  {
   "cell_type": "markdown",
   "source": [
    "First, we need to specify a point within our test DEM region. We can also specify a drainage area, which can be approximated by looking at the test region's MERIT_upa data."
   ],
   "metadata": {}
  },
  {
   "cell_type": "code",
   "execution_count": null,
   "source": [
    "coords = (56.22659, -130.87974)\n",
    "\n",
    "da = 1994"
   ],
   "outputs": [],
   "metadata": {}
  },
  {
   "cell_type": "markdown",
   "source": [
    "In order for the analysis to succeed, we need to add the relevent MERIT data files into rabpro's data directory from the `tests/data/` directory. Each data layer (e.g. `dem`, `fdr`, `uda`, etc.) has a corresponding directory, which can be seen below."
   ],
   "metadata": {}
  },
  {
   "cell_type": "code",
   "execution_count": null,
   "source": [
    "datapaths = rabpro.utils.get_datapaths()\n",
    "datapaths"
   ],
   "outputs": [],
   "metadata": {}
  },
  {
   "cell_type": "markdown",
   "source": [
    "When adding new data tiles to the data directories, you should delete `*.vrt` and `*.txt` files. rabpro will recreate these files with the updated data. If no new data is added, there is no need to delete the virtual raster."
   ],
   "metadata": {}
  },
  {
   "cell_type": "code",
   "execution_count": null,
   "source": [
    "os.remove(datapaths['DEM'])\n",
    "os.remove(datapaths['DEM_fdr'])\n",
    "os.remove(datapaths['DEM_uda'])\n",
    "os.remove(datapaths['DEM_elev_hp'])\n",
    "os.remove(datapaths['DEM_width'])"
   ],
   "outputs": [],
   "metadata": {}
  },
  {
   "cell_type": "markdown",
   "source": [
    "Now we can initialize the profiler. The rabpro profiler is the main entry point into the package - it provides wrapper funcitons for most of the rabpro's core functionality.\n",
    "\n",
    "Note that provided the drainage area (`da`) is optional. We can also set `force_merit` to `True`, which ensures that we use MERIT data rather than HydroBasins to perform basin delineation."
   ],
   "metadata": {}
  },
  {
   "cell_type": "code",
   "execution_count": null,
   "source": [
    "rpo = rabpro.profiler(coords, name='basic_test', da=da, force_merit=True)"
   ],
   "outputs": [],
   "metadata": {}
  },
  {
   "cell_type": "markdown",
   "source": [
    "rabpro can now compute the watershed for this point. This can take a few minutes to run.\n",
    "\n",
    "Requires `test/dem.tif`, `test/fdr.tf`, `test/uda.tif`, and `test/wth.tif`."
   ],
   "metadata": {}
  },
  {
   "cell_type": "code",
   "execution_count": null,
   "source": [
    "rpo.delineate_basins()"
   ],
   "outputs": [],
   "metadata": {}
  },
  {
   "cell_type": "markdown",
   "source": [
    "Next, we compute the river elevation profile.\n",
    "\n",
    "Requires `test/dem.tif`, `test/fdr.tf`, `test/uda.tif`, and `test/wth.tif`."
   ],
   "metadata": {}
  },
  {
   "cell_type": "code",
   "execution_count": null,
   "source": [
    "rpo.elev_profile()"
   ],
   "outputs": [],
   "metadata": {}
  },
  {
   "cell_type": "markdown",
   "source": [
    "The basin geometry is stored in a GeoPandas GeoDataFrame, and can be accessed through the `rpo` object. We can also export it as a file using the GeoPandas API."
   ],
   "metadata": {}
  },
  {
   "cell_type": "code",
   "execution_count": null,
   "source": [
    "basins = rpo.basins\n",
    "\n",
    "rpo.basins.to_file(rpo.paths['subbasins'], driver='GeoJSON')"
   ],
   "outputs": [],
   "metadata": {}
  },
  {
   "cell_type": "markdown",
   "source": [
    "Alternatively, you can use `rabpro.profiler`'s `export()` functionality to export elevation and subbasn data as GeoJSON files."
   ],
   "metadata": {}
  },
  {
   "cell_type": "code",
   "execution_count": null,
   "source": [
    "rpo.export(\"all\")"
   ],
   "outputs": [],
   "metadata": {}
  },
  {
   "cell_type": "markdown",
   "source": [
    "Once the subbasins are delinated, rabpro can use Google Earth Engine (GEE) to compute statistics for each subbasin. Using Google Earth Engine reduces the need to store large datasets locally, and speeds up computation by using GEE's parallel distributed computing capabilities.\n",
    "\n",
    "Note: In order to use rabpro for basin statistics, you'll need to sign up for a GEE account. See rabpro's documentation for more information."
   ],
   "metadata": {}
  },
  {
   "cell_type": "code",
   "execution_count": null,
   "source": [
    "# Specify which statistics to calculate for the JRC/GSW1_3/GlobalSurfaceWater dataset's occurrence band\n",
    "statlist = ['min', 'max', 'range', 'std', 'sum', 'pct50', 'pct3']\n",
    "data = rabpro.subbasin_stats.Dataset(\"JRC/GSW1_3/GlobalSurfaceWater\", \"occurrence\", stats=statlist)\n",
    "\n",
    "d, t = rpo.basin_stats([data], folder=\"rabpro test\")"
   ],
   "outputs": [],
   "metadata": {}
  },
  {
   "cell_type": "markdown",
   "source": [
    "The output data will be placed in the `rabpro test` folder in your Google Drive if it already exists. If not, GEE will create a new `rabpro test` folder at the root level of your Drive."
   ],
   "metadata": {}
  }
 ]
}