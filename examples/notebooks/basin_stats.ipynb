{
 "cells": [
  {
   "cell_type": "markdown",
   "id": "29d0acb0-6cec-480a-aa11-26819ddd8f5e",
   "metadata": {},
   "source": [
    "# Basin stats examples"
   ]
  },
  {
   "cell_type": "code",
   "execution_count": 1,
   "id": "62c76a29-b436-4734-8f38-b02d66a6f8bf",
   "metadata": {},
   "outputs": [],
   "source": [
    "import geopandas as gpd\n",
    "\n",
    "import rabpro\n",
    "from rabpro.subbasin_stats import Dataset"
   ]
  },
  {
   "cell_type": "code",
   "execution_count": 2,
   "id": "5014f92f-b97e-4696-a992-48fc6a2f02f2",
   "metadata": {},
   "outputs": [],
   "source": [
    "# # Authenticate earthengine if necessary\n",
    "# import ee\n",
    "# ee.Authenticate()\n",
    "# ee.Initialize()"
   ]
  },
  {
   "cell_type": "code",
   "execution_count": 3,
   "id": "e7c4989f-3114-4c0f-829e-bf9650c80a60",
   "metadata": {},
   "outputs": [],
   "source": [
    "%%capture\n",
    "coords = (56.22659, -130.87974)\n",
    "rpo = rabpro.profiler(coords, name='basic_test')\n",
    "rpo.delineate_basins()\n",
    "gdf = rpo.basins"
   ]
  },
  {
   "cell_type": "markdown",
   "id": "f830ffb8-5bbc-4f11-afbf-6852b8863163",
   "metadata": {},
   "source": [
    "### Categorical asset"
   ]
  },
  {
   "cell_type": "code",
   "execution_count": 4,
   "id": "9cdb5c8b-7d1a-4da5-b2c7-64a6ca53f763",
   "metadata": {},
   "outputs": [
    {
     "data": {
      "text/html": [
       "<div>\n",
       "<style scoped>\n",
       "    .dataframe tbody tr th:only-of-type {\n",
       "        vertical-align: middle;\n",
       "    }\n",
       "\n",
       "    .dataframe tbody tr th {\n",
       "        vertical-align: top;\n",
       "    }\n",
       "\n",
       "    .dataframe thead th {\n",
       "        text-align: right;\n",
       "    }\n",
       "</style>\n",
       "<table border=\"1\" class=\"dataframe\">\n",
       "  <thead>\n",
       "    <tr style=\"text-align: right;\">\n",
       "      <th></th>\n",
       "      <th>lulc_1.0</th>\n",
       "      <th>lulc_10.0</th>\n",
       "      <th>lulc_10.5</th>\n",
       "      <th>lulc_11.0</th>\n",
       "      <th>lulc_12.5</th>\n",
       "      <th>lulc_13.0</th>\n",
       "      <th>lulc_15.0</th>\n",
       "      <th>lulc_15.5</th>\n",
       "      <th>lulc_16.0</th>\n",
       "      <th>lulc_17.0</th>\n",
       "      <th>lulc_2.5</th>\n",
       "      <th>lulc_4.0</th>\n",
       "      <th>lulc_4.5</th>\n",
       "      <th>lulc_5.0</th>\n",
       "      <th>lulc_5.5</th>\n",
       "      <th>lulc_6.0</th>\n",
       "      <th>lulc_7.0</th>\n",
       "      <th>lulc_8.0</th>\n",
       "      <th>lulc_8.5</th>\n",
       "      <th>lulc_9.0</th>\n",
       "      <th>lulc_9.5</th>\n",
       "      <th>geometry</th>\n",
       "      <th>DA</th>\n",
       "    </tr>\n",
       "  </thead>\n",
       "  <tbody>\n",
       "    <tr>\n",
       "      <th>0</th>\n",
       "      <td>4160.145098</td>\n",
       "      <td>5089.54902</td>\n",
       "      <td>16.0</td>\n",
       "      <td>311.0</td>\n",
       "      <td>64.827451</td>\n",
       "      <td>6.0</td>\n",
       "      <td>5251.65098</td>\n",
       "      <td>125.082353</td>\n",
       "      <td>2032.007843</td>\n",
       "      <td>11.0</td>\n",
       "      <td>7.0</td>\n",
       "      <td>118.0</td>\n",
       "      <td>49.0</td>\n",
       "      <td>8.0</td>\n",
       "      <td>14.0</td>\n",
       "      <td>30.0</td>\n",
       "      <td>10.0</td>\n",
       "      <td>517.141176</td>\n",
       "      <td>7.0</td>\n",
       "      <td>74.05098</td>\n",
       "      <td>11.0</td>\n",
       "      <td>POLYGON ((-130.98238 56.13723, -130.98395 56.14799, -130.99105 56.15617, -130.99228 56.16049, -1...</td>\n",
       "      <td>2121.3</td>\n",
       "    </tr>\n",
       "  </tbody>\n",
       "</table>\n",
       "</div>"
      ],
      "text/plain": [
       "      lulc_1.0   lulc_10.0  lulc_10.5  lulc_11.0  lulc_12.5  lulc_13.0  \\\n",
       "0  4160.145098  5089.54902       16.0      311.0  64.827451        6.0   \n",
       "\n",
       "    lulc_15.0   lulc_15.5    lulc_16.0  lulc_17.0  lulc_2.5  lulc_4.0  \\\n",
       "0  5251.65098  125.082353  2032.007843       11.0       7.0     118.0   \n",
       "\n",
       "   lulc_4.5  lulc_5.0  lulc_5.5  lulc_6.0  lulc_7.0    lulc_8.0  lulc_8.5  \\\n",
       "0      49.0       8.0      14.0      30.0      10.0  517.141176       7.0   \n",
       "\n",
       "   lulc_9.0  lulc_9.5  \\\n",
       "0  74.05098      11.0   \n",
       "\n",
       "                                                                                              geometry  \\\n",
       "0  POLYGON ((-130.98238 56.13723, -130.98395 56.14799, -130.99105 56.15617, -130.99228 56.16049, -1...   \n",
       "\n",
       "       DA  \n",
       "0  2121.3  "
      ]
     },
     "execution_count": 4,
     "metadata": {},
     "output_type": "execute_result"
    }
   ],
   "source": [
    "urls, tasks = rabpro.subbasin_stats.compute(\n",
    "        [Dataset(\"MODIS/006/MCD12Q1\", \"LC_Type1\", stats=[\"freqhist\"], time_stats=[\"median\"])],\n",
    "        basins_gdf=gdf        \n",
    "    )\n",
    "data = rabpro.subbasin_stats.format_gee(urls, [\"lulc\"])\n",
    "res = gpd.GeoDataFrame(pd.concat([data, gdf], axis=1))\n",
    "res = res.set_geometry(\"geometry\")\n",
    "res.head()"
   ]
  },
  {
   "cell_type": "markdown",
   "id": "e41b2eb4-9d54-408b-9c77-3060336eb4fd",
   "metadata": {},
   "source": [
    "### Specific window of a time-indexed asset"
   ]
  }
 ],
 "metadata": {
  "kernelspec": {
   "display_name": "rabpro",
   "language": "python",
   "name": "rabpro"
  },
  "language_info": {
   "codemirror_mode": {
    "name": "ipython",
    "version": 3
   },
   "file_extension": ".py",
   "mimetype": "text/x-python",
   "name": "python",
   "nbconvert_exporter": "python",
   "pygments_lexer": "ipython3",
   "version": "3.9.9"
  }
 },
 "nbformat": 4,
 "nbformat_minor": 5
}
