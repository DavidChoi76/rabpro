{
 "cells": [
  {
   "cell_type": "markdown",
   "metadata": {},
   "source": [
    "# Downloading data\n",
    "\n",
    "This notebooks demonstrates how to download data needed by rabpro to delineate watersheds and create a flowline elevation profile. \n",
    "\n",
    "There are two methods available for delineating watersheds:\n",
    "\n",
    "(1) HydroBasins: easier as all the data can be downloaded in one simple call, but the smallest basins are ~230 km^2. Also faster delineations. Useful for large basins.\n",
    "\n",
    "(2) MERIT-Hydro: MERIT-Hydro data is provided as 30 degree by 30 degree tiled chunks. See http://hydro.iis.u-tokyo.ac.jp/~yamadai/MERIT_Hydro/. You must ensure that you download sufficient area to fully cover your target watershed. \n",
    "you must identify the tile(s) needed to download.  You must also register at the above site to receive the username and password for downloads. rabpro uses four of the layers provided by MERIT-Hydro: flow directions, adjusted elevations, upstream drainage area, and river width."
   ]
  },
  {
   "cell_type": "markdown",
   "metadata": {},
   "source": [
    "## Download HydroBasins"
   ]
  },
  {
   "cell_type": "code",
   "execution_count": 4,
   "metadata": {},
   "outputs": [
    {
     "name": "stdout",
     "output_type": "stream",
     "text": [
      "Downloading HydroBasins zip file (562 MB)...\n",
      "Unzipping HydroBasins zip file...\n",
      "Done.\n"
     ]
    }
   ],
   "source": [
    "from rabpro import data_utils\n",
    "data_utils.download_hydrobasins()\n",
    "\n",
    "# If you are behind a proxy, you can provide the proxy argument, e.g.\n",
    "# data_utils.download_hydrobasins(proxy='proxy_address:port')"
   ]
  },
  {
   "cell_type": "markdown",
   "metadata": {},
   "source": [
    "If the download fails, ensure you're not behind a proxy. If so, provide the proxy as a keyword argument. If not, often simply retrying the download will work. You may also manually download HydroBasins [here](https://drive.google.com/file/d/1NLJUEWhJ9A4y47rcGYv_jWF1Tx2nLEO9/view?usp=sharing). You will need to place it in the correct directory, which you can find with the following code:"
   ]
  },
  {
   "cell_type": "code",
   "execution_count": 11,
   "metadata": {},
   "outputs": [
    {
     "name": "stdout",
     "output_type": "stream",
     "text": [
      "One or more MERIT layers have no data. Use rabro.data_utils.download_merit_hydro() to fetch a MERIT tile.\n",
      "C:\\Users\\318596\\AppData\\Local\\rabpro\\rabpro\\HydroBasins\n"
     ]
    }
   ],
   "source": [
    "# Where will rabpro look for the HydroBasins data?\n",
    "from rabpro import utils\n",
    "print(utils.get_datapaths()['HydroBasins_root'])"
   ]
  },
  {
   "cell_type": "markdown",
   "metadata": {},
   "source": [
    "Within the HydroBasins directory, there should be two subdirectores: level_one and level_twelve."
   ]
  },
  {
   "cell_type": "markdown",
   "metadata": {},
   "source": [
    "## Downloading MERIT tiles\n",
    "\n",
    "For demonstration purposes, we will download a fairly sparse MERIT tile that has a relatively small filesize. Let's say that our watershed falls in the 's30e150' tile. Additionally, the username and password are hidden here--you must first request access at the [MERIT-Hydro page](http://hydro.iis.u-tokyo.ac.jp/~yamadai/MERIT_Hydro/)."
   ]
  },
  {
   "cell_type": "code",
   "execution_count": 4,
   "metadata": {},
   "outputs": [
    {
     "name": "stdout",
     "output_type": "stream",
     "text": [
      "Downloading 'http://hydro.iis.u-tokyo.ac.jp/~yamadai/MERIT_Hydro/distribute/v1.0/dir_s30e150.tar' into 'C:\\Users\\318596\\AppData\\Local\\rabpro\\rabpro\\MERIT_Hydro\\MERIT_FDR\\dir_s30e150.tar'\n"
     ]
    },
    {
     "name": "stderr",
     "output_type": "stream",
     "text": [
      "100%|█████████████████████████████████████████████████████████████████████████████| 23.9M/23.9M [00:07<00:00, 3.26MB/s]\n"
     ]
    },
    {
     "name": "stdout",
     "output_type": "stream",
     "text": [
      "Downloading 'http://hydro.iis.u-tokyo.ac.jp/~yamadai/MERIT_Hydro/distribute/v1.0/elv_s30e150.tar' into 'C:\\Users\\318596\\AppData\\Local\\rabpro\\rabpro\\MERIT_Hydro\\MERIT_ELEV_HP\\elv_s30e150.tar'\n"
     ]
    },
    {
     "name": "stderr",
     "output_type": "stream",
     "text": [
      "100%|███████████████████████████████████████████████████████████████████████████████| 169M/169M [00:29<00:00, 5.76MB/s]\n"
     ]
    },
    {
     "name": "stdout",
     "output_type": "stream",
     "text": [
      "Downloading 'http://hydro.iis.u-tokyo.ac.jp/~yamadai/MERIT_Hydro/distribute/v1.0/upa_s30e150.tar' into 'C:\\Users\\318596\\AppData\\Local\\rabpro\\rabpro\\MERIT_Hydro\\MERIT_UDA\\upa_s30e150.tar'\n"
     ]
    },
    {
     "name": "stderr",
     "output_type": "stream",
     "text": [
      "100%|███████████████████████████████████████████████████████████████████████████████| 112M/112M [00:18<00:00, 6.13MB/s]\n"
     ]
    },
    {
     "name": "stdout",
     "output_type": "stream",
     "text": [
      "Downloading 'http://hydro.iis.u-tokyo.ac.jp/~yamadai/MERIT_Hydro/distribute/v1.0/wth_s30e150.tar' into 'C:\\Users\\318596\\AppData\\Local\\rabpro\\rabpro\\MERIT_Hydro\\MERIT_WTH\\wth_s30e150.tar'\n"
     ]
    },
    {
     "name": "stderr",
     "output_type": "stream",
     "text": [
      "100%|█████████████████████████████████████████████████████████████████████████████| 15.3M/15.3M [00:05<00:00, 2.67MB/s]\n"
     ]
    }
   ],
   "source": [
    "from rabpro import data_utils\n",
    "merit_tile = 's30e150'\n",
    "username = hidden\n",
    "password = hidden\n",
    "data_utils.download_merit_hydro(merit_tile, username, password) # Can also add proxy argument."
   ]
  },
  {
   "cell_type": "markdown",
   "metadata": {},
   "source": [
    "rabpro automatically unzips and stores the MERIT-Hydro tiles in the proper locations. \n",
    "\n",
    "MERIT-Hydro tiles are collections of 5x5 degree geotiffs. rabpro \"stitches\" these geotiffs together in virtual rasters. Each time you call `download_merit_hydro()`, rabpro will automatically rebuild the virtual rasters to ensure that the new geotiffs are available. We can check that these virtual rasters have been built."
   ]
  },
  {
   "cell_type": "code",
   "execution_count": 1,
   "metadata": {},
   "outputs": [
    {
     "name": "stdout",
     "output_type": "stream",
     "text": [
      "Flow directions virtual raster was built.\n",
      "Drainage area virtual raster was built.\n",
      "Elevations virtual raster was built.\n",
      "Width virtual raster was built.\n"
     ]
    }
   ],
   "source": [
    "# We can check that the virtual rasters were built\n",
    "from rabpro import utils\n",
    "import os\n",
    "datapaths = utils.get_datapaths()\n",
    "if os.path.isfile(datapaths['DEM_fdr']) is True:\n",
    "    print('Flow directions virtual raster was built.')\n",
    "if os.path.isfile(datapaths['DEM_uda']) is True:\n",
    "    print('Drainage area virtual raster was built.')\n",
    "if os.path.isfile(datapaths['DEM_elev_hp']) is True:\n",
    "    print('Elevations virtual raster was built.')\n",
    "if os.path.isfile(datapaths['DEM_width']) is True:\n",
    "    print('Width virtual raster was built.')"
   ]
  }
 ],
 "metadata": {
  "interpreter": {
   "hash": "00bb43fee90ca6224738cf9c10f6fc0369c1e3ba4a3fdb37a7afd215dae0b1f5"
  },
  "kernelspec": {
   "display_name": "Python 3 (ipykernel)",
   "language": "python",
   "name": "python3"
  },
  "language_info": {
   "codemirror_mode": {
    "name": "ipython",
    "version": 3
   },
   "file_extension": ".py",
   "mimetype": "text/x-python",
   "name": "python",
   "nbconvert_exporter": "python",
   "pygments_lexer": "ipython3",
   "version": "3.9.9"
  }
 },
 "nbformat": 4,
 "nbformat_minor": 4
}
