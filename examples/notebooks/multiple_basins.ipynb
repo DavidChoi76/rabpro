{
 "cells": [
  {
   "cell_type": "markdown",
   "id": "0ee92191-a8fa-4f96-9b86-4965cd71a3c7",
   "metadata": {},
   "source": [
    "# Multiple basins\n",
    "This example demonstrates the power of the `rapbro` interface to Google Earth Engine (GEE) to collect many subbasin attributes associated with multiple coordinate pairs. "
   ]
  },
  {
   "cell_type": "code",
   "execution_count": 13,
   "id": "93516826-74e4-4cdb-95a5-39706bb8b89a",
   "metadata": {},
   "outputs": [],
   "source": [
    "import os\n",
    "import pandas as pd\n",
    "import geopandas as gpd\n",
    "import contextily as cx # You may need to 'conda install contextily' or 'pip install contextily'\n",
    "import matplotlib.pyplot as plt\n",
    "\n",
    "import rabpro\n",
    "from rabpro.basin_stats import Dataset\n",
    "\n",
    "os.environ['RABPRO_DATA'] = r'X:\\Data' # Point this to your rabpro datapath if it different than the default"
   ]
  },
  {
   "cell_type": "markdown",
   "id": "0f842db0",
   "metadata": {},
   "source": [
    "If you have not authenticated Google Earth Engine yet, this is a good time to do it. Running the following code should prompt you for an authorization token and instructions for getting it."
   ]
  },
  {
   "cell_type": "code",
   "execution_count": null,
   "id": "395c81d6",
   "metadata": {},
   "outputs": [],
   "source": [
    "import ee\n",
    "ee.Authenticate()"
   ]
  },
  {
   "cell_type": "markdown",
   "id": "197eb567-f163-494c-9479-d140814ce8fa",
   "metadata": {},
   "source": [
    "First let's create a list of coordinate pairs that we'll use to delineate our basins of interest. For this example, we'll retrieve the subbasins associated with dams in Sri Lanka. Data are from [VotE-Dams](https://data.ess-dive.lbl.gov/view/doi:10.15485/1843541)."
   ]
  },
  {
   "cell_type": "code",
   "execution_count": 2,
   "id": "e045c28a-ea53-4115-831b-110cc92f8ea8",
   "metadata": {},
   "outputs": [
    {
     "data": {
      "text/html": [
       "<div>\n",
       "<style scoped>\n",
       "    .dataframe tbody tr th:only-of-type {\n",
       "        vertical-align: middle;\n",
       "    }\n",
       "\n",
       "    .dataframe tbody tr th {\n",
       "        vertical-align: top;\n",
       "    }\n",
       "\n",
       "    .dataframe thead th {\n",
       "        text-align: right;\n",
       "    }\n",
       "</style>\n",
       "<table border=\"1\" class=\"dataframe\">\n",
       "  <thead>\n",
       "    <tr style=\"text-align: right;\">\n",
       "      <th></th>\n",
       "      <th>coords</th>\n",
       "      <th>vote_id</th>\n",
       "      <th>da_km2</th>\n",
       "    </tr>\n",
       "  </thead>\n",
       "  <tbody>\n",
       "    <tr>\n",
       "      <th>0</th>\n",
       "      <td>(9.299352, 80.324096)</td>\n",
       "      <td>13331</td>\n",
       "      <td>116.0</td>\n",
       "    </tr>\n",
       "    <tr>\n",
       "      <th>1</th>\n",
       "      <td>(6.9159649, 81.0100197)</td>\n",
       "      <td>13332</td>\n",
       "      <td>1.6</td>\n",
       "    </tr>\n",
       "    <tr>\n",
       "      <th>2</th>\n",
       "      <td>(8.1709424, 80.223766)</td>\n",
       "      <td>13333</td>\n",
       "      <td>131.0</td>\n",
       "    </tr>\n",
       "    <tr>\n",
       "      <th>3</th>\n",
       "      <td>(8.3519444, 80.3852778)</td>\n",
       "      <td>13334</td>\n",
       "      <td>4.0</td>\n",
       "    </tr>\n",
       "    <tr>\n",
       "      <th>4</th>\n",
       "      <td>(6.8577186, 80.5855038)</td>\n",
       "      <td>13335</td>\n",
       "      <td>138.0</td>\n",
       "    </tr>\n",
       "  </tbody>\n",
       "</table>\n",
       "</div>"
      ],
      "text/plain": [
       "                    coords  vote_id  da_km2\n",
       "0    (9.299352, 80.324096)    13331   116.0\n",
       "1  (6.9159649, 81.0100197)    13332     1.6\n",
       "2   (8.1709424, 80.223766)    13333   131.0\n",
       "3  (8.3519444, 80.3852778)    13334     4.0\n",
       "4  (6.8577186, 80.5855038)    13335   138.0"
      ]
     },
     "execution_count": 2,
     "metadata": {},
     "output_type": "execute_result"
    }
   ],
   "source": [
    "dam_coords = [(9.299352, 80.324096), (6.9159649, 81.0100197), (8.1709424, 80.223766), (8.3519444, 80.3852778), (6.8577186, 80.5855038), (6.3098805, 80.8557684), (7.3017445, 80.700303), (7.8666667, 80.6166667), (5.9907437, 80.654368), (7.29212186, 80.63798077), (6.1064653, 80.6434438), (7.8002358, 80.5507896), (7.1644604, 81.6172083), (6.0966667, 80.5980556), (7.9926439, 80.9124781), (7.7713804, 80.4618547), (6.6663889, 81.1519444), (8.2166667, 80.7166667), (7.21031, 81.534525), (9.342165, 80.447647), (6.8531681, 80.1937833), (8.0116232, 80.5577336), (7.8749822, 80.7075809), (8.166120326, 80.92907567), (5.97662322, 80.59436068), (7.060356, 80.598767), (6.58, 80.326944), (6.8356819, 80.1798343), (8.5977778, 80.9497222), (8.3951818, 80.5521785), (8.4649153, 80.1930859), (7.276247, 81.0395821), (6.4406287, 80.9580932), (8.027173, 80.89291), (8.5850794, 81.0064442), (6.9811916, 81.5020328), (8.251949, 80.469926), (7.2667672, 81.1002985), (7.6801531, 80.6139585), (7.296071, 81.5130095), (7.4583255, 81.6007655), (6.913889, 80.521667), (8.347577, 80.419759), (8.8077739, 80.7574688), (7.9448769, 80.292059), (7.0793219, 81.6281681), (7.895393, 80.988042), (8.6907253, 80.4298704), (7.7185503, 81.1885293), (7.3219103, 80.645308), (6.9190503, 80.4894399), (8.1325, 80.2458333), (7.201942, 80.922261), (7.1996059, 80.9496288), (7.5082139, 81.0558007), (6.2057327, 80.9843446), (7.6461111, 81.4808333), (6.675005, 80.7865558), (8.0727324, 79.9556424), (6.428509, 80.838542), (7.618288, 81.5488207), (6.946745731, 80.65814325), (8.0608333, 80.3175), (9.090326112, 80.33821621), (7.241352, 80.783926), (8.7224936, 80.8350109), (6.5474919, 81.260143), (7.647458, 81.213197)]\n",
    "dam_ids = [13331, 13332, 13333, 13334, 13335, 13336, 13337, 13338, 13339, 13340, 13341, 13342, 13343, 13344, 13345, 13346, 13347, 13348, 13349, 13350, 13351, 13352, 13353, 13354, 13355, 13356, 13357, 13358, 13359, 13360, 13361, 13362, 13363, 13364, 13365, 13366, 13367, 13368, 13369, 13370, 13371, 13372, 13373, 13374, 13375, 13376, 13377, 13378, 13379, 13380, 13381, 13382, 13383, 13384, 13385, 13386, 13387, 13388, 13389, 13390, 13391, 13392, 13393, 13394, 13395, 13396, 13397, 22927]\n",
    "dam_das = [116.0, 1.6, 131.0, 4.0, 138.0, 176.0, 0.95, 155.0, 4.15, 2.75, 7.03, 26.0, 32.0, 4.9, 1.08, 58.0, 45.0, 0.79, 992.0, 555.0, 16.16, 834.0, 96.9, 88.0, 5.5, 572.0, 318.0, 5.7, 152.0, 326.0, 405.0, 2.79, 231.0, 213.0, 73.7, 69.2, 598.0, 72.6, 29.7, 30.9, 181.0, 173.6, 834.5, 552.0, 19.2, 26.3, 85.7, 297.25, 102.2, 1350.0, 170.7, 1616.0, 2350.0, 3109.0, 38.7, 26.8, 981.0, 340.0, 311.0, 1160.0, 239.0, 312.0, 183.0, 250.0, 1900.0, 72.0, 549.8, 470.5]\n",
    "vdams_srilanka = pd.DataFrame(data={'coords':dam_coords, 'vote_id':dam_ids, 'da_km2':dam_das})\n",
    "vdams_srilanka.head()"
   ]
  },
  {
   "cell_type": "markdown",
   "id": "bec0b73f",
   "metadata": {},
   "source": [
    "We loop through each coordinate pair and delineate its watershed using MERIT (this is only possible if an estimated drainage area is known, which is the case here, else `rabpro` would use HydroBasins), then combine all watershed polygons into a GeoDataFrame. If you want to use MERIT, download tile 'n00e060' following the MERIT download [example](https://github.com/VeinsOfTheEarth/rabpro/blob/main/docs/source/examples/notebooks/downloading_data.ipynb)."
   ]
  },
  {
   "cell_type": "code",
   "execution_count": 18,
   "id": "d56356e8-a0ed-4974-8ad8-44ba5359a5e2",
   "metadata": {},
   "outputs": [
    {
     "name": "stdout",
     "output_type": "stream",
     "text": [
      "0\n",
      "1\n",
      "2\n",
      "3\n",
      "4\n",
      "5\n",
      "6\n",
      "7\n",
      "8\n",
      "9\n",
      "10\n",
      "11\n",
      "12\n",
      "13\n",
      "14\n",
      "15\n",
      "16\n",
      "17\n",
      "18\n",
      "19\n",
      "20\n",
      "21\n",
      "22\n",
      "23\n",
      "24\n",
      "25\n",
      "26\n",
      "27\n",
      "28\n",
      "29\n",
      "30\n",
      "31\n",
      "32\n",
      "33\n",
      "34\n",
      "35\n",
      "36\n",
      "37\n",
      "38\n",
      "39\n",
      "40\n",
      "41\n",
      "42\n",
      "43\n",
      "44\n",
      "45\n",
      "46\n",
      "47\n",
      "48\n",
      "49\n",
      "50\n",
      "51\n",
      "52\n",
      "53\n",
      "54\n",
      "55\n",
      "56\n",
      "57\n",
      "58\n",
      "59\n",
      "60\n",
      "61\n",
      "62\n",
      "63\n",
      "64\n",
      "65\n",
      "66\n",
      "67\n"
     ]
    }
   ],
   "source": [
    "if os.path.isfile(\"basins_sl.gpkg\") is False:\n",
    "    basins_sl = []\n",
    "    for i, row in vdams_srilanka.iterrows():\n",
    "        print(i)\n",
    "        rpo = rabpro.profiler(row['coords'], da=row['da_km2'], verbose=False)\n",
    "        rpo.delineate_basin(force_merit=True)\n",
    "        rpo.watershed['vote_id'] = row['vote_id']\n",
    "        basins_sl.append(rpo.watershed)\n",
    "        \n",
    "    basins_sl = pd.concat(basins_sl)\n",
    "    basins_sl.to_file(\"basins_sl.gpkg\", driver=\"GPKG\")\n",
    "else:\n",
    "    basins_sl = gpd.read_file(\"basins_sl.gpkg\")\n"
   ]
  },
  {
   "cell_type": "markdown",
   "id": "ee472c6a-77a1-405b-8357-6f363b386176",
   "metadata": {},
   "source": [
    "We need to upload our basin vector layer as a GEE asset because it too large to send as a json payload. This can be done manually through the GEE code editor or via `rabpro` automation. This automation requires that you have a writeable Google Cloud Platform (GCP) bucket and that you are authenticated via the command-line to call the `gsutil` and `earthengine` programs. These programs enable sending files to GCP and onward to GEE respectively.\n",
    "\n",
    "For now, you can skip this step as we've uploaded the sl_basins file as a public asset."
   ]
  },
  {
   "cell_type": "markdown",
   "id": "b4539f74-da5a-4405-a799-03d6acac6215",
   "metadata": {},
   "source": [
    "```python\n",
    "gcp_bucket = \"your_gcp_bucket\"\n",
    "gee_user = \"your_gee_username\"\n",
    "zip_path = rabpro.utils.build_gee_vector_asset(basins_sl, \"basins_sl.zip\")\n",
    "your_gee_asset = rabpro.utils.upload_gee_vector_asset(\n",
    "    zip_path, gee_user, gcp_bucket, gcp_folder=\"rabpro\"\n",
    ")\n",
    "\n",
    "```"
   ]
  },
  {
   "cell_type": "markdown",
   "id": "7a07ce6b-4645-49b1-b2ff-39af540367fd",
   "metadata": {},
   "source": [
    "We'd like to get zonal statistics over each of our delineated basins. We need to first define a list of Google Earth Engine (GEE) datasets we'd like to sample. "
   ]
  },
  {
   "cell_type": "code",
   "execution_count": 19,
   "id": "5aaff7f7-131a-4f72-9a71-981d651fa072",
   "metadata": {},
   "outputs": [],
   "source": [
    "dataset_list = [\n",
    "    Dataset(\n",
    "        \"JRC/GSW1_3/GlobalSurfaceWater\",\n",
    "        \"occurrence\",\n",
    "        time_stats=[\"median\"],\n",
    "        stats=[\"mean\"],\n",
    "    ),\n",
    "    Dataset(\n",
    "        \"ECMWF/ERA5_LAND/MONTHLY\",\n",
    "        \"temperature_2m\",\n",
    "        time_stats=[\"median\"],\n",
    "        stats=[\"mean\"],\n",
    "    ),\n",
    "    Dataset(\n",
    "        \"UCSB-CHG/CHIRPS/DAILY\", \"precipitation\", time_stats=[\"median\"], stats=[\"mean\"]\n",
    "    ),\n",
    "]"
   ]
  },
  {
   "cell_type": "markdown",
   "id": "ab60a65b-dc0d-493f-8b7f-8a2070a46fc8",
   "metadata": {},
   "source": [
    "Now let's do the sampling with `rabpro.basin_stats.compute()`, format the results, and join it to our basins GeoDataFrame."
   ]
  },
  {
   "cell_type": "code",
   "execution_count": 22,
   "id": "7600a0c1-0344-4a45-9fbe-dede27ae2d60",
   "metadata": {},
   "outputs": [],
   "source": [
    "your_gee_asset = 'users/jonschwenk/sl_basins'"
   ]
  },
  {
   "cell_type": "code",
   "execution_count": 23,
   "id": "3fa177f6-9037-42e0-946d-44a6c9286d3e",
   "metadata": {},
   "outputs": [],
   "source": [
    "# This could take minutes to run, depending on how quickly GEE completes your tasks.\n",
    "if not os.path.exists(\"res.gpkg\"):\n",
    "    urls, tasks = rabpro.basin_stats.compute(\n",
    "        dataset_list, gee_feature_path=your_gee_asset, folder=\"rabpro\"\n",
    "    )\n",
    "    tag_list = [\"wateroccur\", \"temperature_2m\", \"precip\"]\n",
    "    data = rabpro.basin_stats.format_gee(urls, tag_list)\n",
    "    data['vote_id'] = data['precip_vote_id'].values\n",
    "    data = data.drop([k for k in data.keys() if '_vote_id' in k], axis=1)\n",
    "\n",
    "    res = gpd.GeoDataFrame(basins_sl.merge(data, on='vote_id'))\n",
    "    res = res.set_geometry(\"geometry\")\n",
    "    res.to_file(\"res.gpkg\", driver=\"GPKG\")\n",
    "else:\n",
    "    res = gpd.read_file(\"res.gpkg\")"
   ]
  },
  {
   "cell_type": "markdown",
   "id": "2b466ebc-6c42-40b4-8b1a-5ba6e0c0d134",
   "metadata": {},
   "source": [
    "Finally, we can visualize our results!"
   ]
  },
  {
   "cell_type": "code",
   "execution_count": 24,
   "id": "b40c3e25-9029-4461-9191-c0007df0c50e",
   "metadata": {},
   "outputs": [
    {
     "ename": "TypeError",
     "evalue": "__init__() got an unexpected keyword argument 'label'",
     "output_type": "error",
     "traceback": [
      "\u001b[1;31m---------------------------------------------------------------------------\u001b[0m",
      "\u001b[1;31mTypeError\u001b[0m                                 Traceback (most recent call last)",
      "\u001b[1;32m~\\AppData\\Local\\Temp/ipykernel_18260/1379176343.py\u001b[0m in \u001b[0;36m<module>\u001b[1;34m\u001b[0m\n\u001b[0;32m     15\u001b[0m \u001b[0mleft\u001b[0m\u001b[1;33m,\u001b[0m \u001b[0mbot\u001b[0m\u001b[1;33m,\u001b[0m \u001b[0mright\u001b[0m\u001b[1;33m,\u001b[0m \u001b[0mtop\u001b[0m \u001b[1;33m=\u001b[0m \u001b[0mres\u001b[0m\u001b[1;33m.\u001b[0m\u001b[0mtotal_bounds\u001b[0m\u001b[1;33m\u001b[0m\u001b[1;33m\u001b[0m\u001b[0m\n\u001b[0;32m     16\u001b[0m \u001b[0mfig\u001b[0m\u001b[1;33m,\u001b[0m \u001b[0max\u001b[0m \u001b[1;33m=\u001b[0m \u001b[0mplt\u001b[0m\u001b[1;33m.\u001b[0m\u001b[0msubplots\u001b[0m\u001b[1;33m(\u001b[0m\u001b[1;36m1\u001b[0m\u001b[1;33m,\u001b[0m \u001b[1;36m3\u001b[0m\u001b[1;33m,\u001b[0m \u001b[0mfigsize\u001b[0m\u001b[1;33m=\u001b[0m\u001b[1;33m(\u001b[0m\u001b[1;36m10\u001b[0m\u001b[1;33m,\u001b[0m \u001b[1;36m10\u001b[0m\u001b[1;33m)\u001b[0m\u001b[1;33m)\u001b[0m\u001b[1;33m\u001b[0m\u001b[1;33m\u001b[0m\u001b[0m\n\u001b[1;32m---> 17\u001b[1;33m ax = [\n\u001b[0m\u001b[0;32m     18\u001b[0m     \u001b[0mbuild_panel\u001b[0m\u001b[1;33m(\u001b[0m\u001b[0mcol_name\u001b[0m\u001b[1;33m,\u001b[0m \u001b[0mcol_label\u001b[0m\u001b[1;33m,\u001b[0m \u001b[0max\u001b[0m\u001b[1;33m[\u001b[0m\u001b[0mi\u001b[0m\u001b[1;33m]\u001b[0m\u001b[1;33m)\u001b[0m\u001b[1;33m\u001b[0m\u001b[1;33m\u001b[0m\u001b[0m\n\u001b[0;32m     19\u001b[0m     for col_name, col_label, i in zip(\n",
      "\u001b[1;32m~\\AppData\\Local\\Temp/ipykernel_18260/1379176343.py\u001b[0m in \u001b[0;36m<listcomp>\u001b[1;34m(.0)\u001b[0m\n\u001b[0;32m     16\u001b[0m \u001b[0mfig\u001b[0m\u001b[1;33m,\u001b[0m \u001b[0max\u001b[0m \u001b[1;33m=\u001b[0m \u001b[0mplt\u001b[0m\u001b[1;33m.\u001b[0m\u001b[0msubplots\u001b[0m\u001b[1;33m(\u001b[0m\u001b[1;36m1\u001b[0m\u001b[1;33m,\u001b[0m \u001b[1;36m3\u001b[0m\u001b[1;33m,\u001b[0m \u001b[0mfigsize\u001b[0m\u001b[1;33m=\u001b[0m\u001b[1;33m(\u001b[0m\u001b[1;36m10\u001b[0m\u001b[1;33m,\u001b[0m \u001b[1;36m10\u001b[0m\u001b[1;33m)\u001b[0m\u001b[1;33m)\u001b[0m\u001b[1;33m\u001b[0m\u001b[1;33m\u001b[0m\u001b[0m\n\u001b[0;32m     17\u001b[0m ax = [\n\u001b[1;32m---> 18\u001b[1;33m     \u001b[0mbuild_panel\u001b[0m\u001b[1;33m(\u001b[0m\u001b[0mcol_name\u001b[0m\u001b[1;33m,\u001b[0m \u001b[0mcol_label\u001b[0m\u001b[1;33m,\u001b[0m \u001b[0max\u001b[0m\u001b[1;33m[\u001b[0m\u001b[0mi\u001b[0m\u001b[1;33m]\u001b[0m\u001b[1;33m)\u001b[0m\u001b[1;33m\u001b[0m\u001b[1;33m\u001b[0m\u001b[0m\n\u001b[0m\u001b[0;32m     19\u001b[0m     for col_name, col_label, i in zip(\n\u001b[0;32m     20\u001b[0m         \u001b[1;33m[\u001b[0m\u001b[0mx\u001b[0m \u001b[1;32mfor\u001b[0m \u001b[0mx\u001b[0m \u001b[1;32min\u001b[0m \u001b[0mres\u001b[0m\u001b[1;33m.\u001b[0m\u001b[0mcolumns\u001b[0m\u001b[1;33m[\u001b[0m\u001b[1;36m0\u001b[0m\u001b[1;33m:\u001b[0m\u001b[1;36m3\u001b[0m\u001b[1;33m]\u001b[0m\u001b[1;33m]\u001b[0m\u001b[1;33m,\u001b[0m\u001b[1;33m\u001b[0m\u001b[1;33m\u001b[0m\u001b[0m\n",
      "\u001b[1;32m~\\AppData\\Local\\Temp/ipykernel_18260/1379176343.py\u001b[0m in \u001b[0;36mbuild_panel\u001b[1;34m(col_name, col_label, axis)\u001b[0m\n\u001b[0;32m      3\u001b[0m     \u001b[0maxis\u001b[0m\u001b[1;33m.\u001b[0m\u001b[0mset_ylim\u001b[0m\u001b[1;33m(\u001b[0m\u001b[1;33m[\u001b[0m\u001b[0mbot\u001b[0m\u001b[1;33m-\u001b[0m\u001b[1;36m0.2\u001b[0m\u001b[1;33m,\u001b[0m \u001b[0mtop\u001b[0m\u001b[1;33m+\u001b[0m\u001b[1;36m0.2\u001b[0m\u001b[1;33m]\u001b[0m\u001b[1;33m)\u001b[0m\u001b[1;33m\u001b[0m\u001b[1;33m\u001b[0m\u001b[0m\n\u001b[0;32m      4\u001b[0m     \u001b[0maxis\u001b[0m\u001b[1;33m.\u001b[0m\u001b[0mset_axis_off\u001b[0m\u001b[1;33m(\u001b[0m\u001b[1;33m)\u001b[0m\u001b[1;33m\u001b[0m\u001b[1;33m\u001b[0m\u001b[0m\n\u001b[1;32m----> 5\u001b[1;33m     res.plot(\n\u001b[0m\u001b[0;32m      6\u001b[0m         \u001b[0max\u001b[0m\u001b[1;33m=\u001b[0m\u001b[0maxis\u001b[0m\u001b[1;33m,\u001b[0m\u001b[1;33m\u001b[0m\u001b[1;33m\u001b[0m\u001b[0m\n\u001b[0;32m      7\u001b[0m         \u001b[0mcolumn\u001b[0m\u001b[1;33m=\u001b[0m\u001b[0mcol_name\u001b[0m\u001b[1;33m,\u001b[0m\u001b[1;33m\u001b[0m\u001b[1;33m\u001b[0m\u001b[0m\n",
      "\u001b[1;32m~\\Anaconda3\\envs\\erosion\\lib\\site-packages\\geopandas\\geodataframe.py\u001b[0m in \u001b[0;36mplot\u001b[1;34m(self, *args, **kwargs)\u001b[0m\n\u001b[0;32m    660\u001b[0m         \u001b[1;32mfrom\u001b[0m \u001b[0mthere\u001b[0m\u001b[1;33m.\u001b[0m\u001b[1;33m\u001b[0m\u001b[1;33m\u001b[0m\u001b[0m\n\u001b[0;32m    661\u001b[0m         \"\"\"\n\u001b[1;32m--> 662\u001b[1;33m         \u001b[1;32mreturn\u001b[0m \u001b[0mplot_dataframe\u001b[0m\u001b[1;33m(\u001b[0m\u001b[0mself\u001b[0m\u001b[1;33m,\u001b[0m \u001b[1;33m*\u001b[0m\u001b[0margs\u001b[0m\u001b[1;33m,\u001b[0m \u001b[1;33m**\u001b[0m\u001b[0mkwargs\u001b[0m\u001b[1;33m)\u001b[0m\u001b[1;33m\u001b[0m\u001b[1;33m\u001b[0m\u001b[0m\n\u001b[0m\u001b[0;32m    663\u001b[0m \u001b[1;33m\u001b[0m\u001b[0m\n\u001b[0;32m    664\u001b[0m     \u001b[0mplot\u001b[0m\u001b[1;33m.\u001b[0m\u001b[0m__doc__\u001b[0m \u001b[1;33m=\u001b[0m \u001b[0mplot_dataframe\u001b[0m\u001b[1;33m.\u001b[0m\u001b[0m__doc__\u001b[0m\u001b[1;33m\u001b[0m\u001b[1;33m\u001b[0m\u001b[0m\n",
      "\u001b[1;32m~\\Anaconda3\\envs\\erosion\\lib\\site-packages\\geopandas\\plotting.py\u001b[0m in \u001b[0;36mplot_dataframe\u001b[1;34m(df, column, cmap, color, ax, cax, categorical, legend, scheme, k, vmin, vmax, markersize, figsize, legend_kwds, classification_kwds, missing_kwds, **style_kwds)\u001b[0m\n\u001b[0;32m    706\u001b[0m             \u001b[0mlegend_kwds\u001b[0m\u001b[1;33m.\u001b[0m\u001b[0msetdefault\u001b[0m\u001b[1;33m(\u001b[0m\u001b[1;34m\"numpoints\"\u001b[0m\u001b[1;33m,\u001b[0m \u001b[1;36m1\u001b[0m\u001b[1;33m)\u001b[0m\u001b[1;33m\u001b[0m\u001b[1;33m\u001b[0m\u001b[0m\n\u001b[0;32m    707\u001b[0m             \u001b[0mlegend_kwds\u001b[0m\u001b[1;33m.\u001b[0m\u001b[0msetdefault\u001b[0m\u001b[1;33m(\u001b[0m\u001b[1;34m\"loc\"\u001b[0m\u001b[1;33m,\u001b[0m \u001b[1;34m\"best\"\u001b[0m\u001b[1;33m)\u001b[0m\u001b[1;33m\u001b[0m\u001b[1;33m\u001b[0m\u001b[0m\n\u001b[1;32m--> 708\u001b[1;33m             \u001b[0max\u001b[0m\u001b[1;33m.\u001b[0m\u001b[0mlegend\u001b[0m\u001b[1;33m(\u001b[0m\u001b[0mpatches\u001b[0m\u001b[1;33m,\u001b[0m \u001b[0mcategories\u001b[0m\u001b[1;33m,\u001b[0m \u001b[1;33m**\u001b[0m\u001b[0mlegend_kwds\u001b[0m\u001b[1;33m)\u001b[0m\u001b[1;33m\u001b[0m\u001b[1;33m\u001b[0m\u001b[0m\n\u001b[0m\u001b[0;32m    709\u001b[0m         \u001b[1;32melse\u001b[0m\u001b[1;33m:\u001b[0m\u001b[1;33m\u001b[0m\u001b[1;33m\u001b[0m\u001b[0m\n\u001b[0;32m    710\u001b[0m \u001b[1;33m\u001b[0m\u001b[0m\n",
      "\u001b[1;32m~\\Anaconda3\\envs\\erosion\\lib\\site-packages\\matplotlib\\axes\\_axes.py\u001b[0m in \u001b[0;36mlegend\u001b[1;34m(self, *args, **kwargs)\u001b[0m\n\u001b[0;32m    303\u001b[0m         \u001b[1;32mif\u001b[0m \u001b[0mlen\u001b[0m\u001b[1;33m(\u001b[0m\u001b[0mextra_args\u001b[0m\u001b[1;33m)\u001b[0m\u001b[1;33m:\u001b[0m\u001b[1;33m\u001b[0m\u001b[1;33m\u001b[0m\u001b[0m\n\u001b[0;32m    304\u001b[0m             \u001b[1;32mraise\u001b[0m \u001b[0mTypeError\u001b[0m\u001b[1;33m(\u001b[0m\u001b[1;34m'legend only accepts two non-keyword arguments'\u001b[0m\u001b[1;33m)\u001b[0m\u001b[1;33m\u001b[0m\u001b[1;33m\u001b[0m\u001b[0m\n\u001b[1;32m--> 305\u001b[1;33m         \u001b[0mself\u001b[0m\u001b[1;33m.\u001b[0m\u001b[0mlegend_\u001b[0m \u001b[1;33m=\u001b[0m \u001b[0mmlegend\u001b[0m\u001b[1;33m.\u001b[0m\u001b[0mLegend\u001b[0m\u001b[1;33m(\u001b[0m\u001b[0mself\u001b[0m\u001b[1;33m,\u001b[0m \u001b[0mhandles\u001b[0m\u001b[1;33m,\u001b[0m \u001b[0mlabels\u001b[0m\u001b[1;33m,\u001b[0m \u001b[1;33m**\u001b[0m\u001b[0mkwargs\u001b[0m\u001b[1;33m)\u001b[0m\u001b[1;33m\u001b[0m\u001b[1;33m\u001b[0m\u001b[0m\n\u001b[0m\u001b[0;32m    306\u001b[0m         \u001b[0mself\u001b[0m\u001b[1;33m.\u001b[0m\u001b[0mlegend_\u001b[0m\u001b[1;33m.\u001b[0m\u001b[0m_remove_method\u001b[0m \u001b[1;33m=\u001b[0m \u001b[0mself\u001b[0m\u001b[1;33m.\u001b[0m\u001b[0m_remove_legend\u001b[0m\u001b[1;33m\u001b[0m\u001b[1;33m\u001b[0m\u001b[0m\n\u001b[0;32m    307\u001b[0m         \u001b[1;32mreturn\u001b[0m \u001b[0mself\u001b[0m\u001b[1;33m.\u001b[0m\u001b[0mlegend_\u001b[0m\u001b[1;33m\u001b[0m\u001b[1;33m\u001b[0m\u001b[0m\n",
      "\u001b[1;31mTypeError\u001b[0m: __init__() got an unexpected keyword argument 'label'"
     ]
    },
    {
     "data": {
      "image/png": "[encoded data removed]",
      "text/plain": [
       "<Figure size 720x720 with 3 Axes>"
      ]
     },
     "metadata": {
      "needs_background": "light"
     },
     "output_type": "display_data"
    }
   ],
   "source": [
    "def build_panel(col_name, col_label, axis):\n",
    "    axis.set_xlim([left-0.5, right+0.5])\n",
    "    axis.set_ylim([bot-0.2, top+0.2])\n",
    "    axis.set_axis_off()\n",
    "    res.plot(\n",
    "        ax=axis,\n",
    "        column=col_name,\n",
    "        legend=True,\n",
    "        legend_kwds={\"label\": col_label, \"orientation\": \"horizontal\", \"pad\": 0.01},\n",
    "    )    \n",
    "    cx.add_basemap(axis, zoom=10, crs=res.crs, attribution=\"\")\n",
    "    return axis\n",
    "\n",
    "\n",
    "left, bot, right, top = res.total_bounds\n",
    "fig, ax = plt.subplots(1, 3, figsize=(10, 10))\n",
    "ax = [\n",
    "    build_panel(col_name, col_label, ax[i])\n",
    "    for col_name, col_label, i in zip(\n",
    "        [x for x in res.columns[0:3]],\n",
    "        [\"Water occurence %\", \"Temperature (K)\", \"Precipitation (mm/day)\"],\n",
    "        range(0, 3),\n",
    "    )\n",
    "]"
   ]
  }
 ],
 "metadata": {
  "kernelspec": {
   "display_name": "Python 3 (ipykernel)",
   "language": "python",
   "name": "python3"
  },
  "language_info": {
   "codemirror_mode": {
    "name": "ipython",
    "version": 3
   },
   "file_extension": ".py",
   "mimetype": "text/x-python",
   "name": "python",
   "nbconvert_exporter": "python",
   "pygments_lexer": "ipython3",
   "version": "3.8.12"
  }
 },
 "nbformat": 4,
 "nbformat_minor": 5
}
